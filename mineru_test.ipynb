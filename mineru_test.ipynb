{
 "cells": [
  {
   "cell_type": "code",
   "execution_count": 1,
   "metadata": {},
   "outputs": [
    {
     "name": "stderr",
     "output_type": "stream",
     "text": [
      "/home/jason_sun/miniconda3/envs/llm/lib/python3.10/site-packages/tqdm/auto.py:21: TqdmWarning: IProgress not found. Please update jupyter and ipywidgets. See https://ipywidgets.readthedocs.io/en/stable/user_install.html\n",
      "  from .autonotebook import tqdm as notebook_tqdm\n",
      "/home/jason_sun/miniconda3/envs/llm/lib/python3.10/site-packages/paddle/utils/cpp_extension/extension_utils.py:711: UserWarning: No ccache found. Please be aware that recompiling all source files may be required. You can download and install ccache from: https://github.com/ccache/ccache/blob/master/doc/INSTALL.md\n",
      "  warnings.warn(warning_message)\n"
     ]
    },
    {
     "name": "stdout",
     "output_type": "stream",
     "text": [
      "\u001b[93mimport tensorrt_llm failed, if do not use tensorrt, ignore this message\u001b[0m\n"
     ]
    }
   ],
   "source": [
    "import os\n",
    "\n",
    "from magic_pdf.data.data_reader_writer import FileBasedDataWriter, FileBasedDataReader\n",
    "from magic_pdf.data.dataset import PymuDocDataset\n",
    "from magic_pdf.model.doc_analyze_by_custom_model import doc_analyze\n",
    "from magic_pdf.config.enums import SupportedPdfParseMethod"
   ]
  },
  {
   "cell_type": "code",
   "execution_count": 2,
   "metadata": {},
   "outputs": [],
   "source": [
    "pdf_file_name = \"CA899647(A) - DuPont benzaldehyde (1).pdf\" \n",
    "name_without_suff = pdf_file_name.split(\".\")[0]"
   ]
  },
  {
   "cell_type": "code",
   "execution_count": 3,
   "metadata": {},
   "outputs": [],
   "source": [
    "local_image_dir, local_md_dir = \"output/images\", \"output\"\n",
    "image_dir = str(os.path.basename(local_image_dir))\n",
    "image_writer, md_writer = FileBasedDataWriter(local_image_dir), FileBasedDataWriter(\n",
    "    local_md_dir\n",
    ")"
   ]
  },
  {
   "cell_type": "code",
   "execution_count": 4,
   "metadata": {},
   "outputs": [],
   "source": [
    "# read bytes\n",
    "reader1 = FileBasedDataReader(\"file\")\n",
    "pdf_bytes = reader1.read(pdf_file_name)  # read the pdf content"
   ]
  },
  {
   "cell_type": "code",
   "execution_count": 5,
   "metadata": {},
   "outputs": [
    {
     "name": "stderr",
     "output_type": "stream",
     "text": [
      "\u001b[32m2025-03-10 15:08:09.193\u001b[0m | \u001b[1mINFO    \u001b[0m | \u001b[36mmagic_pdf.data.dataset\u001b[0m:\u001b[36m__init__\u001b[0m:\u001b[36m156\u001b[0m - \u001b[1mlang: None\u001b[0m\n"
     ]
    }
   ],
   "source": [
    "# proc\n",
    "## Create Dataset Instance\n",
    "ds = PymuDocDataset(pdf_bytes)"
   ]
  },
  {
   "cell_type": "code",
   "execution_count": 6,
   "metadata": {},
   "outputs": [
    {
     "name": "stderr",
     "output_type": "stream",
     "text": [
      "\u001b[32m2025-03-10 15:08:18.740\u001b[0m | \u001b[1mINFO    \u001b[0m | \u001b[36mmagic_pdf.libs.pdf_check\u001b[0m:\u001b[36mdetect_invalid_chars\u001b[0m:\u001b[36m67\u001b[0m - \u001b[1mcid_count: 0, text_len: 12737, cid_chars_radio: 0.0\u001b[0m\n",
      "\u001b[32m2025-03-10 15:08:18.741\u001b[0m | \u001b[33m\u001b[1mWARNING \u001b[0m | \u001b[36mmagic_pdf.filter.pdf_classify_by_type\u001b[0m:\u001b[36mclassify\u001b[0m:\u001b[36m335\u001b[0m - \u001b[33m\u001b[1mOCR needed based on classification result, by_image_area: False, by_text: True, by_avg_words: True, by_img_num: True, by_img_narrow_strips: True, by_invalid_chars: True\u001b[0m\n",
      "\u001b[32m2025-03-10 15:08:18.743\u001b[0m | \u001b[1mINFO    \u001b[0m | \u001b[36mmagic_pdf.model.pdf_extract_kit\u001b[0m:\u001b[36m__init__\u001b[0m:\u001b[36m78\u001b[0m - \u001b[1mDocAnalysis init, this may take some times, layout_model: doclayout_yolo, apply_formula: True, apply_ocr: True, apply_table: True, table_model: rapid_table, lang: None\u001b[0m\n",
      "\u001b[32m2025-03-10 15:08:18.743\u001b[0m | \u001b[1mINFO    \u001b[0m | \u001b[36mmagic_pdf.model.pdf_extract_kit\u001b[0m:\u001b[36m__init__\u001b[0m:\u001b[36m92\u001b[0m - \u001b[1musing device: cpu\u001b[0m\n",
      "\u001b[32m2025-03-10 15:08:18.744\u001b[0m | \u001b[1mINFO    \u001b[0m | \u001b[36mmagic_pdf.model.pdf_extract_kit\u001b[0m:\u001b[36m__init__\u001b[0m:\u001b[36m96\u001b[0m - \u001b[1musing models_dir: /home/jason_sun/.cache/huggingface/hub/models--opendatalab--PDF-Extract-Kit-1.0/snapshots/60416a2cabad3f7b7284b43ce37a99864484fba2/models\u001b[0m\n"
     ]
    },
    {
     "name": "stdout",
     "output_type": "stream",
     "text": [
      "CustomVisionEncoderDecoderModel init\n",
      "VariableUnimerNetModel init\n",
      "VariableUnimerNetPatchEmbeddings init\n",
      "VariableUnimerNetModel init\n",
      "VariableUnimerNetPatchEmbeddings init\n",
      "CustomMBartForCausalLM init\n",
      "CustomMBartDecoder init\n"
     ]
    },
    {
     "name": "stderr",
     "output_type": "stream",
     "text": [
      "2025-03-10 15:08:24,094 - DownloadModel - DEBUG: /home/jason_sun/miniconda3/envs/llm/lib/python3.10/site-packages/rapid_table/models/slanet-plus.onnx already exists\n",
      "\u001b[32m2025-03-10 15:08:24.385\u001b[0m | \u001b[1mINFO    \u001b[0m | \u001b[36mmagic_pdf.model.pdf_extract_kit\u001b[0m:\u001b[36m__init__\u001b[0m:\u001b[36m174\u001b[0m - \u001b[1mDocAnalysis init done!\u001b[0m\n",
      "\u001b[32m2025-03-10 15:08:24.386\u001b[0m | \u001b[1mINFO    \u001b[0m | \u001b[36mmagic_pdf.model.doc_analyze_by_custom_model\u001b[0m:\u001b[36mcustom_model_init\u001b[0m:\u001b[36m128\u001b[0m - \u001b[1mmodel init cost: 5.643768072128296\u001b[0m\n",
      "\u001b[32m2025-03-10 15:08:26.541\u001b[0m | \u001b[1mINFO    \u001b[0m | \u001b[36mmagic_pdf.model.pdf_extract_kit\u001b[0m:\u001b[36m__call__\u001b[0m:\u001b[36m210\u001b[0m - \u001b[1mlayout detection time: 2.07\u001b[0m\n",
      "\u001b[32m2025-03-10 15:08:28.926\u001b[0m | \u001b[1mINFO    \u001b[0m | \u001b[36mmagic_pdf.model.pdf_extract_kit\u001b[0m:\u001b[36m__call__\u001b[0m:\u001b[36m216\u001b[0m - \u001b[1mmfd time: 2.38\u001b[0m\n",
      "\u001b[32m2025-03-10 15:08:28.928\u001b[0m | \u001b[1mINFO    \u001b[0m | \u001b[36mmagic_pdf.model.pdf_extract_kit\u001b[0m:\u001b[36m__call__\u001b[0m:\u001b[36m223\u001b[0m - \u001b[1mformula nums: 0, mfr time: 0.0\u001b[0m\n",
      "\u001b[32m2025-03-10 15:08:29.844\u001b[0m | \u001b[1mINFO    \u001b[0m | \u001b[36mmagic_pdf.model.pdf_extract_kit\u001b[0m:\u001b[36m__call__\u001b[0m:\u001b[36m255\u001b[0m - \u001b[1mocr time: 0.92\u001b[0m\n",
      "\u001b[32m2025-03-10 15:08:29.845\u001b[0m | \u001b[1mINFO    \u001b[0m | \u001b[36mmagic_pdf.model.pdf_extract_kit\u001b[0m:\u001b[36m__call__\u001b[0m:\u001b[36m297\u001b[0m - \u001b[1mtable time: 0.0\u001b[0m\n",
      "\u001b[32m2025-03-10 15:08:29.845\u001b[0m | \u001b[1mINFO    \u001b[0m | \u001b[36mmagic_pdf.model.doc_analyze_by_custom_model\u001b[0m:\u001b[36mdoc_analyze\u001b[0m:\u001b[36m224\u001b[0m - \u001b[1m-----page_id : 0, page total time: 5.37-----\u001b[0m\n",
      "\u001b[32m2025-03-10 15:08:30.842\u001b[0m | \u001b[1mINFO    \u001b[0m | \u001b[36mmagic_pdf.model.pdf_extract_kit\u001b[0m:\u001b[36m__call__\u001b[0m:\u001b[36m210\u001b[0m - \u001b[1mlayout detection time: 0.87\u001b[0m\n",
      "\u001b[32m2025-03-10 15:08:33.065\u001b[0m | \u001b[1mINFO    \u001b[0m | \u001b[36mmagic_pdf.model.pdf_extract_kit\u001b[0m:\u001b[36m__call__\u001b[0m:\u001b[36m216\u001b[0m - \u001b[1mmfd time: 2.22\u001b[0m\n",
      "\u001b[32m2025-03-10 15:08:33.066\u001b[0m | \u001b[1mINFO    \u001b[0m | \u001b[36mmagic_pdf.model.pdf_extract_kit\u001b[0m:\u001b[36m__call__\u001b[0m:\u001b[36m223\u001b[0m - \u001b[1mformula nums: 0, mfr time: 0.0\u001b[0m\n",
      "\u001b[32m2025-03-10 15:08:34.010\u001b[0m | \u001b[1mINFO    \u001b[0m | \u001b[36mmagic_pdf.model.pdf_extract_kit\u001b[0m:\u001b[36m__call__\u001b[0m:\u001b[36m255\u001b[0m - \u001b[1mocr time: 0.94\u001b[0m\n",
      "\u001b[32m2025-03-10 15:08:34.011\u001b[0m | \u001b[1mINFO    \u001b[0m | \u001b[36mmagic_pdf.model.pdf_extract_kit\u001b[0m:\u001b[36m__call__\u001b[0m:\u001b[36m297\u001b[0m - \u001b[1mtable time: 0.0\u001b[0m\n",
      "\u001b[32m2025-03-10 15:08:34.012\u001b[0m | \u001b[1mINFO    \u001b[0m | \u001b[36mmagic_pdf.model.doc_analyze_by_custom_model\u001b[0m:\u001b[36mdoc_analyze\u001b[0m:\u001b[36m224\u001b[0m - \u001b[1m-----page_id : 1, page total time: 4.04-----\u001b[0m\n",
      "\u001b[32m2025-03-10 15:08:35.039\u001b[0m | \u001b[1mINFO    \u001b[0m | \u001b[36mmagic_pdf.model.pdf_extract_kit\u001b[0m:\u001b[36m__call__\u001b[0m:\u001b[36m210\u001b[0m - \u001b[1mlayout detection time: 0.86\u001b[0m\n",
      "\u001b[32m2025-03-10 15:08:37.320\u001b[0m | \u001b[1mINFO    \u001b[0m | \u001b[36mmagic_pdf.model.pdf_extract_kit\u001b[0m:\u001b[36m__call__\u001b[0m:\u001b[36m216\u001b[0m - \u001b[1mmfd time: 2.28\u001b[0m\n",
      "\u001b[32m2025-03-10 15:09:16.391\u001b[0m | \u001b[1mINFO    \u001b[0m | \u001b[36mmagic_pdf.model.pdf_extract_kit\u001b[0m:\u001b[36m__call__\u001b[0m:\u001b[36m223\u001b[0m - \u001b[1mformula nums: 1, mfr time: 39.07\u001b[0m\n",
      "\u001b[32m2025-03-10 15:09:18.420\u001b[0m | \u001b[1mINFO    \u001b[0m | \u001b[36mmagic_pdf.model.pdf_extract_kit\u001b[0m:\u001b[36m__call__\u001b[0m:\u001b[36m255\u001b[0m - \u001b[1mocr time: 2.03\u001b[0m\n",
      "\u001b[32m2025-03-10 15:09:18.421\u001b[0m | \u001b[1mINFO    \u001b[0m | \u001b[36mmagic_pdf.model.pdf_extract_kit\u001b[0m:\u001b[36m__call__\u001b[0m:\u001b[36m297\u001b[0m - \u001b[1mtable time: 0.0\u001b[0m\n",
      "\u001b[32m2025-03-10 15:09:18.422\u001b[0m | \u001b[1mINFO    \u001b[0m | \u001b[36mmagic_pdf.model.doc_analyze_by_custom_model\u001b[0m:\u001b[36mdoc_analyze\u001b[0m:\u001b[36m224\u001b[0m - \u001b[1m-----page_id : 2, page total time: 44.25-----\u001b[0m\n",
      "\u001b[32m2025-03-10 15:09:19.469\u001b[0m | \u001b[1mINFO    \u001b[0m | \u001b[36mmagic_pdf.model.pdf_extract_kit\u001b[0m:\u001b[36m__call__\u001b[0m:\u001b[36m210\u001b[0m - \u001b[1mlayout detection time: 0.88\u001b[0m\n",
      "\u001b[32m2025-03-10 15:09:21.749\u001b[0m | \u001b[1mINFO    \u001b[0m | \u001b[36mmagic_pdf.model.pdf_extract_kit\u001b[0m:\u001b[36m__call__\u001b[0m:\u001b[36m216\u001b[0m - \u001b[1mmfd time: 2.28\u001b[0m\n",
      "\u001b[32m2025-03-10 15:09:23.217\u001b[0m | \u001b[1mINFO    \u001b[0m | \u001b[36mmagic_pdf.model.pdf_extract_kit\u001b[0m:\u001b[36m__call__\u001b[0m:\u001b[36m223\u001b[0m - \u001b[1mformula nums: 4, mfr time: 1.47\u001b[0m\n",
      "\u001b[32m2025-03-10 15:09:26.179\u001b[0m | \u001b[1mINFO    \u001b[0m | \u001b[36mmagic_pdf.model.pdf_extract_kit\u001b[0m:\u001b[36m__call__\u001b[0m:\u001b[36m255\u001b[0m - \u001b[1mocr time: 2.96\u001b[0m\n",
      "\u001b[32m2025-03-10 15:09:26.179\u001b[0m | \u001b[1mINFO    \u001b[0m | \u001b[36mmagic_pdf.model.pdf_extract_kit\u001b[0m:\u001b[36m__call__\u001b[0m:\u001b[36m297\u001b[0m - \u001b[1mtable time: 0.0\u001b[0m\n",
      "\u001b[32m2025-03-10 15:09:26.180\u001b[0m | \u001b[1mINFO    \u001b[0m | \u001b[36mmagic_pdf.model.doc_analyze_by_custom_model\u001b[0m:\u001b[36mdoc_analyze\u001b[0m:\u001b[36m224\u001b[0m - \u001b[1m-----page_id : 3, page total time: 7.59-----\u001b[0m\n",
      "\u001b[32m2025-03-10 15:09:27.161\u001b[0m | \u001b[1mINFO    \u001b[0m | \u001b[36mmagic_pdf.model.pdf_extract_kit\u001b[0m:\u001b[36m__call__\u001b[0m:\u001b[36m210\u001b[0m - \u001b[1mlayout detection time: 0.81\u001b[0m\n",
      "\u001b[32m2025-03-10 15:09:29.370\u001b[0m | \u001b[1mINFO    \u001b[0m | \u001b[36mmagic_pdf.model.pdf_extract_kit\u001b[0m:\u001b[36m__call__\u001b[0m:\u001b[36m216\u001b[0m - \u001b[1mmfd time: 2.21\u001b[0m\n",
      "\u001b[32m2025-03-10 15:09:29.996\u001b[0m | \u001b[1mINFO    \u001b[0m | \u001b[36mmagic_pdf.model.pdf_extract_kit\u001b[0m:\u001b[36m__call__\u001b[0m:\u001b[36m223\u001b[0m - \u001b[1mformula nums: 2, mfr time: 0.63\u001b[0m\n",
      "\u001b[32m2025-03-10 15:09:32.083\u001b[0m | \u001b[1mINFO    \u001b[0m | \u001b[36mmagic_pdf.model.pdf_extract_kit\u001b[0m:\u001b[36m__call__\u001b[0m:\u001b[36m255\u001b[0m - \u001b[1mocr time: 2.09\u001b[0m\n",
      "\u001b[32m2025-03-10 15:09:32.084\u001b[0m | \u001b[1mINFO    \u001b[0m | \u001b[36mmagic_pdf.model.pdf_extract_kit\u001b[0m:\u001b[36m__call__\u001b[0m:\u001b[36m297\u001b[0m - \u001b[1mtable time: 0.0\u001b[0m\n",
      "\u001b[32m2025-03-10 15:09:32.084\u001b[0m | \u001b[1mINFO    \u001b[0m | \u001b[36mmagic_pdf.model.doc_analyze_by_custom_model\u001b[0m:\u001b[36mdoc_analyze\u001b[0m:\u001b[36m224\u001b[0m - \u001b[1m-----page_id : 4, page total time: 5.74-----\u001b[0m\n",
      "\u001b[32m2025-03-10 15:09:33.083\u001b[0m | \u001b[1mINFO    \u001b[0m | \u001b[36mmagic_pdf.model.pdf_extract_kit\u001b[0m:\u001b[36m__call__\u001b[0m:\u001b[36m210\u001b[0m - \u001b[1mlayout detection time: 0.82\u001b[0m\n",
      "\u001b[32m2025-03-10 15:09:35.258\u001b[0m | \u001b[1mINFO    \u001b[0m | \u001b[36mmagic_pdf.model.pdf_extract_kit\u001b[0m:\u001b[36m__call__\u001b[0m:\u001b[36m216\u001b[0m - \u001b[1mmfd time: 2.17\u001b[0m\n",
      "\u001b[32m2025-03-10 15:09:39.359\u001b[0m | \u001b[1mINFO    \u001b[0m | \u001b[36mmagic_pdf.model.pdf_extract_kit\u001b[0m:\u001b[36m__call__\u001b[0m:\u001b[36m223\u001b[0m - \u001b[1mformula nums: 12, mfr time: 4.1\u001b[0m\n",
      "\u001b[32m2025-03-10 15:09:41.746\u001b[0m | \u001b[1mINFO    \u001b[0m | \u001b[36mmagic_pdf.model.pdf_extract_kit\u001b[0m:\u001b[36m__call__\u001b[0m:\u001b[36m255\u001b[0m - \u001b[1mocr time: 2.39\u001b[0m\n",
      "\u001b[32m2025-03-10 15:09:41.747\u001b[0m | \u001b[1mINFO    \u001b[0m | \u001b[36mmagic_pdf.model.pdf_extract_kit\u001b[0m:\u001b[36m__call__\u001b[0m:\u001b[36m297\u001b[0m - \u001b[1mtable time: 0.0\u001b[0m\n",
      "\u001b[32m2025-03-10 15:09:41.747\u001b[0m | \u001b[1mINFO    \u001b[0m | \u001b[36mmagic_pdf.model.doc_analyze_by_custom_model\u001b[0m:\u001b[36mdoc_analyze\u001b[0m:\u001b[36m224\u001b[0m - \u001b[1m-----page_id : 5, page total time: 9.49-----\u001b[0m\n",
      "\u001b[32m2025-03-10 15:09:42.736\u001b[0m | \u001b[1mINFO    \u001b[0m | \u001b[36mmagic_pdf.model.pdf_extract_kit\u001b[0m:\u001b[36m__call__\u001b[0m:\u001b[36m210\u001b[0m - \u001b[1mlayout detection time: 0.82\u001b[0m\n",
      "\u001b[32m2025-03-10 15:09:44.935\u001b[0m | \u001b[1mINFO    \u001b[0m | \u001b[36mmagic_pdf.model.pdf_extract_kit\u001b[0m:\u001b[36m__call__\u001b[0m:\u001b[36m216\u001b[0m - \u001b[1mmfd time: 2.2\u001b[0m\n",
      "\u001b[32m2025-03-10 15:09:44.936\u001b[0m | \u001b[1mINFO    \u001b[0m | \u001b[36mmagic_pdf.model.pdf_extract_kit\u001b[0m:\u001b[36m__call__\u001b[0m:\u001b[36m223\u001b[0m - \u001b[1mformula nums: 0, mfr time: 0.0\u001b[0m\n",
      "\u001b[32m2025-03-10 15:09:47.181\u001b[0m | \u001b[1mINFO    \u001b[0m | \u001b[36mmagic_pdf.model.pdf_extract_kit\u001b[0m:\u001b[36m__call__\u001b[0m:\u001b[36m255\u001b[0m - \u001b[1mocr time: 2.24\u001b[0m\n",
      "\u001b[32m2025-03-10 15:09:47.182\u001b[0m | \u001b[1mINFO    \u001b[0m | \u001b[36mmagic_pdf.model.pdf_extract_kit\u001b[0m:\u001b[36m__call__\u001b[0m:\u001b[36m297\u001b[0m - \u001b[1mtable time: 0.0\u001b[0m\n",
      "\u001b[32m2025-03-10 15:09:47.183\u001b[0m | \u001b[1mINFO    \u001b[0m | \u001b[36mmagic_pdf.model.doc_analyze_by_custom_model\u001b[0m:\u001b[36mdoc_analyze\u001b[0m:\u001b[36m224\u001b[0m - \u001b[1m-----page_id : 6, page total time: 5.27-----\u001b[0m\n",
      "\u001b[32m2025-03-10 15:09:48.171\u001b[0m | \u001b[1mINFO    \u001b[0m | \u001b[36mmagic_pdf.model.pdf_extract_kit\u001b[0m:\u001b[36m__call__\u001b[0m:\u001b[36m210\u001b[0m - \u001b[1mlayout detection time: 0.83\u001b[0m\n",
      "\u001b[32m2025-03-10 15:09:50.350\u001b[0m | \u001b[1mINFO    \u001b[0m | \u001b[36mmagic_pdf.model.pdf_extract_kit\u001b[0m:\u001b[36m__call__\u001b[0m:\u001b[36m216\u001b[0m - \u001b[1mmfd time: 2.18\u001b[0m\n",
      "\u001b[32m2025-03-10 15:09:50.351\u001b[0m | \u001b[1mINFO    \u001b[0m | \u001b[36mmagic_pdf.model.pdf_extract_kit\u001b[0m:\u001b[36m__call__\u001b[0m:\u001b[36m223\u001b[0m - \u001b[1mformula nums: 0, mfr time: 0.0\u001b[0m\n",
      "\u001b[32m2025-03-10 15:09:51.833\u001b[0m | \u001b[1mINFO    \u001b[0m | \u001b[36mmagic_pdf.model.pdf_extract_kit\u001b[0m:\u001b[36m__call__\u001b[0m:\u001b[36m255\u001b[0m - \u001b[1mocr time: 1.48\u001b[0m\n",
      "\u001b[32m2025-03-10 15:09:51.833\u001b[0m | \u001b[1mINFO    \u001b[0m | \u001b[36mmagic_pdf.model.pdf_extract_kit\u001b[0m:\u001b[36m__call__\u001b[0m:\u001b[36m297\u001b[0m - \u001b[1mtable time: 0.0\u001b[0m\n",
      "\u001b[32m2025-03-10 15:09:51.834\u001b[0m | \u001b[1mINFO    \u001b[0m | \u001b[36mmagic_pdf.model.doc_analyze_by_custom_model\u001b[0m:\u001b[36mdoc_analyze\u001b[0m:\u001b[36m224\u001b[0m - \u001b[1m-----page_id : 7, page total time: 4.5-----\u001b[0m\n",
      "\u001b[32m2025-03-10 15:09:52.824\u001b[0m | \u001b[1mINFO    \u001b[0m | \u001b[36mmagic_pdf.model.pdf_extract_kit\u001b[0m:\u001b[36m__call__\u001b[0m:\u001b[36m210\u001b[0m - \u001b[1mlayout detection time: 0.81\u001b[0m\n",
      "\u001b[32m2025-03-10 15:09:55.024\u001b[0m | \u001b[1mINFO    \u001b[0m | \u001b[36mmagic_pdf.model.pdf_extract_kit\u001b[0m:\u001b[36m__call__\u001b[0m:\u001b[36m216\u001b[0m - \u001b[1mmfd time: 2.2\u001b[0m\n",
      "\u001b[32m2025-03-10 15:09:56.111\u001b[0m | \u001b[1mINFO    \u001b[0m | \u001b[36mmagic_pdf.model.pdf_extract_kit\u001b[0m:\u001b[36m__call__\u001b[0m:\u001b[36m223\u001b[0m - \u001b[1mformula nums: 4, mfr time: 1.09\u001b[0m\n",
      "\u001b[32m2025-03-10 15:09:58.235\u001b[0m | \u001b[1mINFO    \u001b[0m | \u001b[36mmagic_pdf.model.pdf_extract_kit\u001b[0m:\u001b[36m__call__\u001b[0m:\u001b[36m255\u001b[0m - \u001b[1mocr time: 2.12\u001b[0m\n",
      "\u001b[32m2025-03-10 15:09:58.236\u001b[0m | \u001b[1mINFO    \u001b[0m | \u001b[36mmagic_pdf.model.pdf_extract_kit\u001b[0m:\u001b[36m__call__\u001b[0m:\u001b[36m297\u001b[0m - \u001b[1mtable time: 0.0\u001b[0m\n",
      "\u001b[32m2025-03-10 15:09:58.236\u001b[0m | \u001b[1mINFO    \u001b[0m | \u001b[36mmagic_pdf.model.doc_analyze_by_custom_model\u001b[0m:\u001b[36mdoc_analyze\u001b[0m:\u001b[36m224\u001b[0m - \u001b[1m-----page_id : 8, page total time: 6.22-----\u001b[0m\n",
      "\u001b[32m2025-03-10 15:09:59.219\u001b[0m | \u001b[1mINFO    \u001b[0m | \u001b[36mmagic_pdf.model.pdf_extract_kit\u001b[0m:\u001b[36m__call__\u001b[0m:\u001b[36m210\u001b[0m - \u001b[1mlayout detection time: 0.81\u001b[0m\n",
      "\u001b[32m2025-03-10 15:10:01.407\u001b[0m | \u001b[1mINFO    \u001b[0m | \u001b[36mmagic_pdf.model.pdf_extract_kit\u001b[0m:\u001b[36m__call__\u001b[0m:\u001b[36m216\u001b[0m - \u001b[1mmfd time: 2.19\u001b[0m\n",
      "\u001b[32m2025-03-10 15:10:02.005\u001b[0m | \u001b[1mINFO    \u001b[0m | \u001b[36mmagic_pdf.model.pdf_extract_kit\u001b[0m:\u001b[36m__call__\u001b[0m:\u001b[36m223\u001b[0m - \u001b[1mformula nums: 1, mfr time: 0.6\u001b[0m\n",
      "\u001b[32m2025-03-10 15:10:04.685\u001b[0m | \u001b[1mINFO    \u001b[0m | \u001b[36mmagic_pdf.model.pdf_extract_kit\u001b[0m:\u001b[36m__call__\u001b[0m:\u001b[36m255\u001b[0m - \u001b[1mocr time: 2.68\u001b[0m\n",
      "\u001b[32m2025-03-10 15:10:04.686\u001b[0m | \u001b[1mINFO    \u001b[0m | \u001b[36mmagic_pdf.model.pdf_extract_kit\u001b[0m:\u001b[36m__call__\u001b[0m:\u001b[36m297\u001b[0m - \u001b[1mtable time: 0.0\u001b[0m\n",
      "\u001b[32m2025-03-10 15:10:04.686\u001b[0m | \u001b[1mINFO    \u001b[0m | \u001b[36mmagic_pdf.model.doc_analyze_by_custom_model\u001b[0m:\u001b[36mdoc_analyze\u001b[0m:\u001b[36m224\u001b[0m - \u001b[1m-----page_id : 9, page total time: 6.28-----\u001b[0m\n",
      "\u001b[32m2025-03-10 15:10:05.677\u001b[0m | \u001b[1mINFO    \u001b[0m | \u001b[36mmagic_pdf.model.pdf_extract_kit\u001b[0m:\u001b[36m__call__\u001b[0m:\u001b[36m210\u001b[0m - \u001b[1mlayout detection time: 0.82\u001b[0m\n",
      "\u001b[32m2025-03-10 15:10:07.835\u001b[0m | \u001b[1mINFO    \u001b[0m | \u001b[36mmagic_pdf.model.pdf_extract_kit\u001b[0m:\u001b[36m__call__\u001b[0m:\u001b[36m216\u001b[0m - \u001b[1mmfd time: 2.16\u001b[0m\n",
      "\u001b[32m2025-03-10 15:10:09.422\u001b[0m | \u001b[1mINFO    \u001b[0m | \u001b[36mmagic_pdf.model.pdf_extract_kit\u001b[0m:\u001b[36m__call__\u001b[0m:\u001b[36m223\u001b[0m - \u001b[1mformula nums: 4, mfr time: 1.59\u001b[0m\n",
      "\u001b[32m2025-03-10 15:10:12.888\u001b[0m | \u001b[1mINFO    \u001b[0m | \u001b[36mmagic_pdf.model.pdf_extract_kit\u001b[0m:\u001b[36m__call__\u001b[0m:\u001b[36m255\u001b[0m - \u001b[1mocr time: 3.47\u001b[0m\n",
      "\u001b[32m2025-03-10 15:10:12.889\u001b[0m | \u001b[1mINFO    \u001b[0m | \u001b[36mmagic_pdf.model.pdf_extract_kit\u001b[0m:\u001b[36m__call__\u001b[0m:\u001b[36m297\u001b[0m - \u001b[1mtable time: 0.0\u001b[0m\n",
      "\u001b[32m2025-03-10 15:10:12.889\u001b[0m | \u001b[1mINFO    \u001b[0m | \u001b[36mmagic_pdf.model.doc_analyze_by_custom_model\u001b[0m:\u001b[36mdoc_analyze\u001b[0m:\u001b[36m224\u001b[0m - \u001b[1m-----page_id : 10, page total time: 8.04-----\u001b[0m\n",
      "\u001b[32m2025-03-10 15:10:13.878\u001b[0m | \u001b[1mINFO    \u001b[0m | \u001b[36mmagic_pdf.model.pdf_extract_kit\u001b[0m:\u001b[36m__call__\u001b[0m:\u001b[36m210\u001b[0m - \u001b[1mlayout detection time: 0.83\u001b[0m\n",
      "\u001b[32m2025-03-10 15:10:16.173\u001b[0m | \u001b[1mINFO    \u001b[0m | \u001b[36mmagic_pdf.model.pdf_extract_kit\u001b[0m:\u001b[36m__call__\u001b[0m:\u001b[36m216\u001b[0m - \u001b[1mmfd time: 2.29\u001b[0m\n",
      "\u001b[32m2025-03-10 15:10:17.346\u001b[0m | \u001b[1mINFO    \u001b[0m | \u001b[36mmagic_pdf.model.pdf_extract_kit\u001b[0m:\u001b[36m__call__\u001b[0m:\u001b[36m223\u001b[0m - \u001b[1mformula nums: 5, mfr time: 1.17\u001b[0m\n",
      "\u001b[32m2025-03-10 15:10:19.332\u001b[0m | \u001b[1mINFO    \u001b[0m | \u001b[36mmagic_pdf.model.pdf_extract_kit\u001b[0m:\u001b[36m__call__\u001b[0m:\u001b[36m255\u001b[0m - \u001b[1mocr time: 1.99\u001b[0m\n",
      "\u001b[32m2025-03-10 15:10:19.333\u001b[0m | \u001b[1mINFO    \u001b[0m | \u001b[36mmagic_pdf.model.pdf_extract_kit\u001b[0m:\u001b[36m__call__\u001b[0m:\u001b[36m297\u001b[0m - \u001b[1mtable time: 0.0\u001b[0m\n",
      "\u001b[32m2025-03-10 15:10:19.333\u001b[0m | \u001b[1mINFO    \u001b[0m | \u001b[36mmagic_pdf.model.doc_analyze_by_custom_model\u001b[0m:\u001b[36mdoc_analyze\u001b[0m:\u001b[36m224\u001b[0m - \u001b[1m-----page_id : 11, page total time: 6.29-----\u001b[0m\n",
      "\u001b[32m2025-03-10 15:10:20.315\u001b[0m | \u001b[1mINFO    \u001b[0m | \u001b[36mmagic_pdf.model.pdf_extract_kit\u001b[0m:\u001b[36m__call__\u001b[0m:\u001b[36m210\u001b[0m - \u001b[1mlayout detection time: 0.83\u001b[0m\n",
      "\u001b[32m2025-03-10 15:10:22.554\u001b[0m | \u001b[1mINFO    \u001b[0m | \u001b[36mmagic_pdf.model.pdf_extract_kit\u001b[0m:\u001b[36m__call__\u001b[0m:\u001b[36m216\u001b[0m - \u001b[1mmfd time: 2.24\u001b[0m\n",
      "\u001b[32m2025-03-10 15:10:23.061\u001b[0m | \u001b[1mINFO    \u001b[0m | \u001b[36mmagic_pdf.model.pdf_extract_kit\u001b[0m:\u001b[36m__call__\u001b[0m:\u001b[36m223\u001b[0m - \u001b[1mformula nums: 2, mfr time: 0.51\u001b[0m\n",
      "\u001b[32m2025-03-10 15:10:24.095\u001b[0m | \u001b[1mINFO    \u001b[0m | \u001b[36mmagic_pdf.model.pdf_extract_kit\u001b[0m:\u001b[36m__call__\u001b[0m:\u001b[36m255\u001b[0m - \u001b[1mocr time: 1.03\u001b[0m\n",
      "\u001b[32m2025-03-10 15:10:24.542\u001b[0m | \u001b[1mINFO    \u001b[0m | \u001b[36mmagic_pdf.model.pdf_extract_kit\u001b[0m:\u001b[36m__call__\u001b[0m:\u001b[36m297\u001b[0m - \u001b[1mtable time: 0.45\u001b[0m\n",
      "\u001b[32m2025-03-10 15:10:24.542\u001b[0m | \u001b[1mINFO    \u001b[0m | \u001b[36mmagic_pdf.model.doc_analyze_by_custom_model\u001b[0m:\u001b[36mdoc_analyze\u001b[0m:\u001b[36m224\u001b[0m - \u001b[1m-----page_id : 12, page total time: 5.06-----\u001b[0m\n",
      "\u001b[32m2025-03-10 15:10:25.523\u001b[0m | \u001b[1mINFO    \u001b[0m | \u001b[36mmagic_pdf.model.pdf_extract_kit\u001b[0m:\u001b[36m__call__\u001b[0m:\u001b[36m210\u001b[0m - \u001b[1mlayout detection time: 0.81\u001b[0m\n",
      "\u001b[32m2025-03-10 15:10:27.774\u001b[0m | \u001b[1mINFO    \u001b[0m | \u001b[36mmagic_pdf.model.pdf_extract_kit\u001b[0m:\u001b[36m__call__\u001b[0m:\u001b[36m216\u001b[0m - \u001b[1mmfd time: 2.25\u001b[0m\n",
      "\u001b[32m2025-03-10 15:10:28.434\u001b[0m | \u001b[1mINFO    \u001b[0m | \u001b[36mmagic_pdf.model.pdf_extract_kit\u001b[0m:\u001b[36m__call__\u001b[0m:\u001b[36m223\u001b[0m - \u001b[1mformula nums: 1, mfr time: 0.66\u001b[0m\n",
      "\u001b[32m2025-03-10 15:10:30.436\u001b[0m | \u001b[1mINFO    \u001b[0m | \u001b[36mmagic_pdf.model.pdf_extract_kit\u001b[0m:\u001b[36m__call__\u001b[0m:\u001b[36m255\u001b[0m - \u001b[1mocr time: 2.0\u001b[0m\n",
      "\u001b[32m2025-03-10 15:10:30.436\u001b[0m | \u001b[1mINFO    \u001b[0m | \u001b[36mmagic_pdf.model.pdf_extract_kit\u001b[0m:\u001b[36m__call__\u001b[0m:\u001b[36m297\u001b[0m - \u001b[1mtable time: 0.0\u001b[0m\n",
      "\u001b[32m2025-03-10 15:10:30.437\u001b[0m | \u001b[1mINFO    \u001b[0m | \u001b[36mmagic_pdf.model.doc_analyze_by_custom_model\u001b[0m:\u001b[36mdoc_analyze\u001b[0m:\u001b[36m224\u001b[0m - \u001b[1m-----page_id : 13, page total time: 5.73-----\u001b[0m\n",
      "\u001b[32m2025-03-10 15:10:31.457\u001b[0m | \u001b[1mINFO    \u001b[0m | \u001b[36mmagic_pdf.model.pdf_extract_kit\u001b[0m:\u001b[36m__call__\u001b[0m:\u001b[36m210\u001b[0m - \u001b[1mlayout detection time: 0.85\u001b[0m\n",
      "\u001b[32m2025-03-10 15:10:33.725\u001b[0m | \u001b[1mINFO    \u001b[0m | \u001b[36mmagic_pdf.model.pdf_extract_kit\u001b[0m:\u001b[36m__call__\u001b[0m:\u001b[36m216\u001b[0m - \u001b[1mmfd time: 2.27\u001b[0m\n",
      "\u001b[32m2025-03-10 15:10:34.759\u001b[0m | \u001b[1mINFO    \u001b[0m | \u001b[36mmagic_pdf.model.pdf_extract_kit\u001b[0m:\u001b[36m__call__\u001b[0m:\u001b[36m223\u001b[0m - \u001b[1mformula nums: 4, mfr time: 1.03\u001b[0m\n",
      "\u001b[32m2025-03-10 15:10:36.918\u001b[0m | \u001b[1mINFO    \u001b[0m | \u001b[36mmagic_pdf.model.pdf_extract_kit\u001b[0m:\u001b[36m__call__\u001b[0m:\u001b[36m255\u001b[0m - \u001b[1mocr time: 2.16\u001b[0m\n",
      "\u001b[32m2025-03-10 15:10:36.919\u001b[0m | \u001b[1mINFO    \u001b[0m | \u001b[36mmagic_pdf.model.pdf_extract_kit\u001b[0m:\u001b[36m__call__\u001b[0m:\u001b[36m297\u001b[0m - \u001b[1mtable time: 0.0\u001b[0m\n",
      "\u001b[32m2025-03-10 15:10:36.920\u001b[0m | \u001b[1mINFO    \u001b[0m | \u001b[36mmagic_pdf.model.doc_analyze_by_custom_model\u001b[0m:\u001b[36mdoc_analyze\u001b[0m:\u001b[36m224\u001b[0m - \u001b[1m-----page_id : 14, page total time: 6.31-----\u001b[0m\n",
      "\u001b[32m2025-03-10 15:10:37.952\u001b[0m | \u001b[1mINFO    \u001b[0m | \u001b[36mmagic_pdf.model.pdf_extract_kit\u001b[0m:\u001b[36m__call__\u001b[0m:\u001b[36m210\u001b[0m - \u001b[1mlayout detection time: 0.85\u001b[0m\n",
      "\u001b[32m2025-03-10 15:10:40.226\u001b[0m | \u001b[1mINFO    \u001b[0m | \u001b[36mmagic_pdf.model.pdf_extract_kit\u001b[0m:\u001b[36m__call__\u001b[0m:\u001b[36m216\u001b[0m - \u001b[1mmfd time: 2.27\u001b[0m\n",
      "\u001b[32m2025-03-10 15:10:41.545\u001b[0m | \u001b[1mINFO    \u001b[0m | \u001b[36mmagic_pdf.model.pdf_extract_kit\u001b[0m:\u001b[36m__call__\u001b[0m:\u001b[36m223\u001b[0m - \u001b[1mformula nums: 5, mfr time: 1.32\u001b[0m\n",
      "\u001b[32m2025-03-10 15:10:43.803\u001b[0m | \u001b[1mINFO    \u001b[0m | \u001b[36mmagic_pdf.model.pdf_extract_kit\u001b[0m:\u001b[36m__call__\u001b[0m:\u001b[36m255\u001b[0m - \u001b[1mocr time: 2.26\u001b[0m\n",
      "\u001b[32m2025-03-10 15:10:44.709\u001b[0m | \u001b[1mINFO    \u001b[0m | \u001b[36mmagic_pdf.model.pdf_extract_kit\u001b[0m:\u001b[36m__call__\u001b[0m:\u001b[36m297\u001b[0m - \u001b[1mtable time: 0.91\u001b[0m\n",
      "\u001b[32m2025-03-10 15:10:44.711\u001b[0m | \u001b[1mINFO    \u001b[0m | \u001b[36mmagic_pdf.model.doc_analyze_by_custom_model\u001b[0m:\u001b[36mdoc_analyze\u001b[0m:\u001b[36m224\u001b[0m - \u001b[1m-----page_id : 15, page total time: 7.61-----\u001b[0m\n",
      "\u001b[32m2025-03-10 15:10:45.764\u001b[0m | \u001b[1mINFO    \u001b[0m | \u001b[36mmagic_pdf.model.pdf_extract_kit\u001b[0m:\u001b[36m__call__\u001b[0m:\u001b[36m210\u001b[0m - \u001b[1mlayout detection time: 0.88\u001b[0m\n",
      "\u001b[32m2025-03-10 15:10:48.069\u001b[0m | \u001b[1mINFO    \u001b[0m | \u001b[36mmagic_pdf.model.pdf_extract_kit\u001b[0m:\u001b[36m__call__\u001b[0m:\u001b[36m216\u001b[0m - \u001b[1mmfd time: 2.3\u001b[0m\n",
      "\u001b[32m2025-03-10 15:10:49.158\u001b[0m | \u001b[1mINFO    \u001b[0m | \u001b[36mmagic_pdf.model.pdf_extract_kit\u001b[0m:\u001b[36m__call__\u001b[0m:\u001b[36m223\u001b[0m - \u001b[1mformula nums: 5, mfr time: 1.09\u001b[0m\n",
      "\u001b[32m2025-03-10 15:10:51.403\u001b[0m | \u001b[1mINFO    \u001b[0m | \u001b[36mmagic_pdf.model.pdf_extract_kit\u001b[0m:\u001b[36m__call__\u001b[0m:\u001b[36m255\u001b[0m - \u001b[1mocr time: 2.24\u001b[0m\n",
      "\u001b[32m2025-03-10 15:10:51.403\u001b[0m | \u001b[1mINFO    \u001b[0m | \u001b[36mmagic_pdf.model.pdf_extract_kit\u001b[0m:\u001b[36m__call__\u001b[0m:\u001b[36m297\u001b[0m - \u001b[1mtable time: 0.0\u001b[0m\n",
      "\u001b[32m2025-03-10 15:10:51.404\u001b[0m | \u001b[1mINFO    \u001b[0m | \u001b[36mmagic_pdf.model.doc_analyze_by_custom_model\u001b[0m:\u001b[36mdoc_analyze\u001b[0m:\u001b[36m224\u001b[0m - \u001b[1m-----page_id : 16, page total time: 6.52-----\u001b[0m\n",
      "\u001b[32m2025-03-10 15:10:52.443\u001b[0m | \u001b[1mINFO    \u001b[0m | \u001b[36mmagic_pdf.model.pdf_extract_kit\u001b[0m:\u001b[36m__call__\u001b[0m:\u001b[36m210\u001b[0m - \u001b[1mlayout detection time: 0.86\u001b[0m\n",
      "\u001b[32m2025-03-10 15:10:54.759\u001b[0m | \u001b[1mINFO    \u001b[0m | \u001b[36mmagic_pdf.model.pdf_extract_kit\u001b[0m:\u001b[36m__call__\u001b[0m:\u001b[36m216\u001b[0m - \u001b[1mmfd time: 2.31\u001b[0m\n",
      "\u001b[32m2025-03-10 15:10:56.375\u001b[0m | \u001b[1mINFO    \u001b[0m | \u001b[36mmagic_pdf.model.pdf_extract_kit\u001b[0m:\u001b[36m__call__\u001b[0m:\u001b[36m223\u001b[0m - \u001b[1mformula nums: 5, mfr time: 1.61\u001b[0m\n",
      "\u001b[32m2025-03-10 15:10:58.968\u001b[0m | \u001b[1mINFO    \u001b[0m | \u001b[36mmagic_pdf.model.pdf_extract_kit\u001b[0m:\u001b[36m__call__\u001b[0m:\u001b[36m255\u001b[0m - \u001b[1mocr time: 2.59\u001b[0m\n",
      "\u001b[32m2025-03-10 15:10:58.969\u001b[0m | \u001b[1mINFO    \u001b[0m | \u001b[36mmagic_pdf.model.pdf_extract_kit\u001b[0m:\u001b[36m__call__\u001b[0m:\u001b[36m297\u001b[0m - \u001b[1mtable time: 0.0\u001b[0m\n",
      "\u001b[32m2025-03-10 15:10:58.970\u001b[0m | \u001b[1mINFO    \u001b[0m | \u001b[36mmagic_pdf.model.doc_analyze_by_custom_model\u001b[0m:\u001b[36mdoc_analyze\u001b[0m:\u001b[36m224\u001b[0m - \u001b[1m-----page_id : 17, page total time: 7.39-----\u001b[0m\n",
      "\u001b[32m2025-03-10 15:11:00.018\u001b[0m | \u001b[1mINFO    \u001b[0m | \u001b[36mmagic_pdf.model.pdf_extract_kit\u001b[0m:\u001b[36m__call__\u001b[0m:\u001b[36m210\u001b[0m - \u001b[1mlayout detection time: 0.89\u001b[0m\n",
      "\u001b[32m2025-03-10 15:11:02.432\u001b[0m | \u001b[1mINFO    \u001b[0m | \u001b[36mmagic_pdf.model.pdf_extract_kit\u001b[0m:\u001b[36m__call__\u001b[0m:\u001b[36m216\u001b[0m - \u001b[1mmfd time: 2.41\u001b[0m\n",
      "\u001b[32m2025-03-10 15:11:03.338\u001b[0m | \u001b[1mINFO    \u001b[0m | \u001b[36mmagic_pdf.model.pdf_extract_kit\u001b[0m:\u001b[36m__call__\u001b[0m:\u001b[36m223\u001b[0m - \u001b[1mformula nums: 3, mfr time: 0.91\u001b[0m\n",
      "\u001b[32m2025-03-10 15:11:05.309\u001b[0m | \u001b[1mINFO    \u001b[0m | \u001b[36mmagic_pdf.model.pdf_extract_kit\u001b[0m:\u001b[36m__call__\u001b[0m:\u001b[36m255\u001b[0m - \u001b[1mocr time: 1.97\u001b[0m\n",
      "\u001b[32m2025-03-10 15:11:05.310\u001b[0m | \u001b[1mINFO    \u001b[0m | \u001b[36mmagic_pdf.model.pdf_extract_kit\u001b[0m:\u001b[36m__call__\u001b[0m:\u001b[36m297\u001b[0m - \u001b[1mtable time: 0.0\u001b[0m\n",
      "\u001b[32m2025-03-10 15:11:05.311\u001b[0m | \u001b[1mINFO    \u001b[0m | \u001b[36mmagic_pdf.model.doc_analyze_by_custom_model\u001b[0m:\u001b[36mdoc_analyze\u001b[0m:\u001b[36m224\u001b[0m - \u001b[1m-----page_id : 18, page total time: 6.19-----\u001b[0m\n",
      "\u001b[32m2025-03-10 15:11:06.432\u001b[0m | \u001b[1mINFO    \u001b[0m | \u001b[36mmagic_pdf.model.pdf_extract_kit\u001b[0m:\u001b[36m__call__\u001b[0m:\u001b[36m210\u001b[0m - \u001b[1mlayout detection time: 0.95\u001b[0m\n",
      "\u001b[32m2025-03-10 15:11:08.866\u001b[0m | \u001b[1mINFO    \u001b[0m | \u001b[36mmagic_pdf.model.pdf_extract_kit\u001b[0m:\u001b[36m__call__\u001b[0m:\u001b[36m216\u001b[0m - \u001b[1mmfd time: 2.43\u001b[0m\n",
      "\u001b[32m2025-03-10 15:11:09.492\u001b[0m | \u001b[1mINFO    \u001b[0m | \u001b[36mmagic_pdf.model.pdf_extract_kit\u001b[0m:\u001b[36m__call__\u001b[0m:\u001b[36m223\u001b[0m - \u001b[1mformula nums: 2, mfr time: 0.63\u001b[0m\n",
      "\u001b[32m2025-03-10 15:11:10.603\u001b[0m | \u001b[1mINFO    \u001b[0m | \u001b[36mmagic_pdf.model.pdf_extract_kit\u001b[0m:\u001b[36m__call__\u001b[0m:\u001b[36m255\u001b[0m - \u001b[1mocr time: 1.11\u001b[0m\n",
      "\u001b[32m2025-03-10 15:11:10.604\u001b[0m | \u001b[1mINFO    \u001b[0m | \u001b[36mmagic_pdf.model.pdf_extract_kit\u001b[0m:\u001b[36m__call__\u001b[0m:\u001b[36m297\u001b[0m - \u001b[1mtable time: 0.0\u001b[0m\n",
      "\u001b[32m2025-03-10 15:11:10.604\u001b[0m | \u001b[1mINFO    \u001b[0m | \u001b[36mmagic_pdf.model.doc_analyze_by_custom_model\u001b[0m:\u001b[36mdoc_analyze\u001b[0m:\u001b[36m224\u001b[0m - \u001b[1m-----page_id : 19, page total time: 5.13-----\u001b[0m\n",
      "\u001b[32m2025-03-10 15:11:11.677\u001b[0m | \u001b[1mINFO    \u001b[0m | \u001b[36mmagic_pdf.model.pdf_extract_kit\u001b[0m:\u001b[36m__call__\u001b[0m:\u001b[36m210\u001b[0m - \u001b[1mlayout detection time: 0.9\u001b[0m\n",
      "\u001b[32m2025-03-10 15:11:14.059\u001b[0m | \u001b[1mINFO    \u001b[0m | \u001b[36mmagic_pdf.model.pdf_extract_kit\u001b[0m:\u001b[36m__call__\u001b[0m:\u001b[36m216\u001b[0m - \u001b[1mmfd time: 2.38\u001b[0m\n",
      "\u001b[32m2025-03-10 15:11:16.880\u001b[0m | \u001b[1mINFO    \u001b[0m | \u001b[36mmagic_pdf.model.pdf_extract_kit\u001b[0m:\u001b[36m__call__\u001b[0m:\u001b[36m223\u001b[0m - \u001b[1mformula nums: 8, mfr time: 2.82\u001b[0m\n",
      "\u001b[32m2025-03-10 15:11:19.085\u001b[0m | \u001b[1mINFO    \u001b[0m | \u001b[36mmagic_pdf.model.pdf_extract_kit\u001b[0m:\u001b[36m__call__\u001b[0m:\u001b[36m255\u001b[0m - \u001b[1mocr time: 2.2\u001b[0m\n",
      "\u001b[32m2025-03-10 15:11:19.086\u001b[0m | \u001b[1mINFO    \u001b[0m | \u001b[36mmagic_pdf.model.pdf_extract_kit\u001b[0m:\u001b[36m__call__\u001b[0m:\u001b[36m297\u001b[0m - \u001b[1mtable time: 0.0\u001b[0m\n",
      "\u001b[32m2025-03-10 15:11:19.087\u001b[0m | \u001b[1mINFO    \u001b[0m | \u001b[36mmagic_pdf.model.doc_analyze_by_custom_model\u001b[0m:\u001b[36mdoc_analyze\u001b[0m:\u001b[36m224\u001b[0m - \u001b[1m-----page_id : 20, page total time: 8.31-----\u001b[0m\n",
      "\u001b[32m2025-03-10 15:11:20.161\u001b[0m | \u001b[1mINFO    \u001b[0m | \u001b[36mmagic_pdf.model.pdf_extract_kit\u001b[0m:\u001b[36m__call__\u001b[0m:\u001b[36m210\u001b[0m - \u001b[1mlayout detection time: 0.9\u001b[0m\n",
      "\u001b[32m2025-03-10 15:11:21.723\u001b[0m | \u001b[1mINFO    \u001b[0m | \u001b[36mmagic_pdf.model.pdf_extract_kit\u001b[0m:\u001b[36m__call__\u001b[0m:\u001b[36m216\u001b[0m - \u001b[1mmfd time: 1.56\u001b[0m\n",
      "\u001b[32m2025-03-10 15:12:04.007\u001b[0m | \u001b[1mINFO    \u001b[0m | \u001b[36mmagic_pdf.model.pdf_extract_kit\u001b[0m:\u001b[36m__call__\u001b[0m:\u001b[36m223\u001b[0m - \u001b[1mformula nums: 20, mfr time: 42.28\u001b[0m\n",
      "\u001b[32m2025-03-10 15:12:06.024\u001b[0m | \u001b[1mINFO    \u001b[0m | \u001b[36mmagic_pdf.model.pdf_extract_kit\u001b[0m:\u001b[36m__call__\u001b[0m:\u001b[36m255\u001b[0m - \u001b[1mocr time: 2.02\u001b[0m\n",
      "\u001b[32m2025-03-10 15:12:06.025\u001b[0m | \u001b[1mINFO    \u001b[0m | \u001b[36mmagic_pdf.model.pdf_extract_kit\u001b[0m:\u001b[36m__call__\u001b[0m:\u001b[36m297\u001b[0m - \u001b[1mtable time: 0.0\u001b[0m\n",
      "\u001b[32m2025-03-10 15:12:06.025\u001b[0m | \u001b[1mINFO    \u001b[0m | \u001b[36mmagic_pdf.model.doc_analyze_by_custom_model\u001b[0m:\u001b[36mdoc_analyze\u001b[0m:\u001b[36m224\u001b[0m - \u001b[1m-----page_id : 21, page total time: 46.76-----\u001b[0m\n",
      "\u001b[32m2025-03-10 15:12:07.079\u001b[0m | \u001b[1mINFO    \u001b[0m | \u001b[36mmagic_pdf.model.pdf_extract_kit\u001b[0m:\u001b[36m__call__\u001b[0m:\u001b[36m210\u001b[0m - \u001b[1mlayout detection time: 0.9\u001b[0m\n",
      "\u001b[32m2025-03-10 15:12:09.315\u001b[0m | \u001b[1mINFO    \u001b[0m | \u001b[36mmagic_pdf.model.pdf_extract_kit\u001b[0m:\u001b[36m__call__\u001b[0m:\u001b[36m216\u001b[0m - \u001b[1mmfd time: 2.23\u001b[0m\n",
      "\u001b[32m2025-03-10 15:12:09.316\u001b[0m | \u001b[1mINFO    \u001b[0m | \u001b[36mmagic_pdf.model.pdf_extract_kit\u001b[0m:\u001b[36m__call__\u001b[0m:\u001b[36m223\u001b[0m - \u001b[1mformula nums: 0, mfr time: 0.0\u001b[0m\n",
      "\u001b[32m2025-03-10 15:12:11.134\u001b[0m | \u001b[1mINFO    \u001b[0m | \u001b[36mmagic_pdf.model.pdf_extract_kit\u001b[0m:\u001b[36m__call__\u001b[0m:\u001b[36m255\u001b[0m - \u001b[1mocr time: 1.82\u001b[0m\n",
      "\u001b[32m2025-03-10 15:12:11.135\u001b[0m | \u001b[1mINFO    \u001b[0m | \u001b[36mmagic_pdf.model.pdf_extract_kit\u001b[0m:\u001b[36m__call__\u001b[0m:\u001b[36m297\u001b[0m - \u001b[1mtable time: 0.0\u001b[0m\n",
      "\u001b[32m2025-03-10 15:12:11.136\u001b[0m | \u001b[1mINFO    \u001b[0m | \u001b[36mmagic_pdf.model.doc_analyze_by_custom_model\u001b[0m:\u001b[36mdoc_analyze\u001b[0m:\u001b[36m224\u001b[0m - \u001b[1m-----page_id : 22, page total time: 4.96-----\u001b[0m\n",
      "\u001b[32m2025-03-10 15:12:12.185\u001b[0m | \u001b[1mINFO    \u001b[0m | \u001b[36mmagic_pdf.model.pdf_extract_kit\u001b[0m:\u001b[36m__call__\u001b[0m:\u001b[36m210\u001b[0m - \u001b[1mlayout detection time: 0.9\u001b[0m\n",
      "\u001b[32m2025-03-10 15:12:14.440\u001b[0m | \u001b[1mINFO    \u001b[0m | \u001b[36mmagic_pdf.model.pdf_extract_kit\u001b[0m:\u001b[36m__call__\u001b[0m:\u001b[36m216\u001b[0m - \u001b[1mmfd time: 2.25\u001b[0m\n",
      "\u001b[32m2025-03-10 15:12:15.811\u001b[0m | \u001b[1mINFO    \u001b[0m | \u001b[36mmagic_pdf.model.pdf_extract_kit\u001b[0m:\u001b[36m__call__\u001b[0m:\u001b[36m223\u001b[0m - \u001b[1mformula nums: 5, mfr time: 1.37\u001b[0m\n",
      "\u001b[32m2025-03-10 15:12:17.552\u001b[0m | \u001b[1mINFO    \u001b[0m | \u001b[36mmagic_pdf.model.pdf_extract_kit\u001b[0m:\u001b[36m__call__\u001b[0m:\u001b[36m255\u001b[0m - \u001b[1mocr time: 1.74\u001b[0m\n",
      "\u001b[32m2025-03-10 15:12:17.553\u001b[0m | \u001b[1mINFO    \u001b[0m | \u001b[36mmagic_pdf.model.pdf_extract_kit\u001b[0m:\u001b[36m__call__\u001b[0m:\u001b[36m297\u001b[0m - \u001b[1mtable time: 0.0\u001b[0m\n",
      "\u001b[32m2025-03-10 15:12:17.554\u001b[0m | \u001b[1mINFO    \u001b[0m | \u001b[36mmagic_pdf.model.doc_analyze_by_custom_model\u001b[0m:\u001b[36mdoc_analyze\u001b[0m:\u001b[36m224\u001b[0m - \u001b[1m-----page_id : 23, page total time: 6.27-----\u001b[0m\n",
      "\u001b[32m2025-03-10 15:12:18.533\u001b[0m | \u001b[1mINFO    \u001b[0m | \u001b[36mmagic_pdf.model.pdf_extract_kit\u001b[0m:\u001b[36m__call__\u001b[0m:\u001b[36m210\u001b[0m - \u001b[1mlayout detection time: 0.89\u001b[0m\n",
      "\u001b[32m2025-03-10 15:12:20.815\u001b[0m | \u001b[1mINFO    \u001b[0m | \u001b[36mmagic_pdf.model.pdf_extract_kit\u001b[0m:\u001b[36m__call__\u001b[0m:\u001b[36m216\u001b[0m - \u001b[1mmfd time: 2.28\u001b[0m\n",
      "\u001b[32m2025-03-10 15:12:20.816\u001b[0m | \u001b[1mINFO    \u001b[0m | \u001b[36mmagic_pdf.model.pdf_extract_kit\u001b[0m:\u001b[36m__call__\u001b[0m:\u001b[36m223\u001b[0m - \u001b[1mformula nums: 0, mfr time: 0.0\u001b[0m\n",
      "\u001b[32m2025-03-10 15:12:21.725\u001b[0m | \u001b[1mINFO    \u001b[0m | \u001b[36mmagic_pdf.model.pdf_extract_kit\u001b[0m:\u001b[36m__call__\u001b[0m:\u001b[36m255\u001b[0m - \u001b[1mocr time: 0.91\u001b[0m\n",
      "\u001b[32m2025-03-10 15:12:21.726\u001b[0m | \u001b[1mINFO    \u001b[0m | \u001b[36mmagic_pdf.model.pdf_extract_kit\u001b[0m:\u001b[36m__call__\u001b[0m:\u001b[36m297\u001b[0m - \u001b[1mtable time: 0.0\u001b[0m\n",
      "\u001b[32m2025-03-10 15:12:21.727\u001b[0m | \u001b[1mINFO    \u001b[0m | \u001b[36mmagic_pdf.model.doc_analyze_by_custom_model\u001b[0m:\u001b[36mdoc_analyze\u001b[0m:\u001b[36m224\u001b[0m - \u001b[1m-----page_id : 24, page total time: 4.09-----\u001b[0m\n",
      "\u001b[32m2025-03-10 15:12:22.131\u001b[0m | \u001b[1mINFO    \u001b[0m | \u001b[36mmagic_pdf.model.doc_analyze_by_custom_model\u001b[0m:\u001b[36mdoc_analyze\u001b[0m:\u001b[36m235\u001b[0m - \u001b[1mgc time: 0.4\u001b[0m\n",
      "\u001b[32m2025-03-10 15:12:22.131\u001b[0m | \u001b[1mINFO    \u001b[0m | \u001b[36mmagic_pdf.model.doc_analyze_by_custom_model\u001b[0m:\u001b[36mdoc_analyze\u001b[0m:\u001b[36m239\u001b[0m - \u001b[1mdoc analyze time: 237.74, speed: 0.11 pages/second\u001b[0m\n",
      "\u001b[32m2025-03-10 15:12:24.780\u001b[0m | \u001b[33m\u001b[1mWARNING \u001b[0m | \u001b[36mmagic_pdf.pdf_parse_union_core_v2\u001b[0m:\u001b[36msort_lines_by_model\u001b[0m:\u001b[36m550\u001b[0m - \u001b[33m\u001b[1mbottom > page_h, left: 521, right: 592, top: 26, bottom: 842, page_w: 595.4550170898438, page_h: 841.698974609375\u001b[0m\n"
     ]
    }
   ],
   "source": [
    "## inference\n",
    "if ds.classify() == SupportedPdfParseMethod.OCR:\n",
    "    infer_result = ds.apply(doc_analyze, ocr=True)\n",
    "\n",
    "    ## pipeline\n",
    "    pipe_result = infer_result.pipe_ocr_mode(image_writer)\n",
    "\n",
    "else:\n",
    "    infer_result = ds.apply(doc_analyze, ocr=False)\n",
    "\n",
    "    ## pipeline\n",
    "    pipe_result = infer_result.pipe_txt_mode(image_writer)"
   ]
  },
  {
   "cell_type": "code",
   "execution_count": 7,
   "metadata": {},
   "outputs": [],
   "source": [
    "### draw model result on each page\n",
    "infer_result.draw_model(os.path.join(local_md_dir, f\"{name_without_suff}_model.pdf\"))\n",
    "\n",
    "### get model inference result\n",
    "model_inference_result = infer_result.get_infer_res()"
   ]
  },
  {
   "cell_type": "code",
   "execution_count": 8,
   "metadata": {},
   "outputs": [],
   "source": [
    "### draw layout result on each page\n",
    "pipe_result.draw_layout(os.path.join(local_md_dir, f\"{name_without_suff}_layout.pdf\"))\n",
    "\n",
    "### draw spans result on each page\n",
    "pipe_result.draw_span(os.path.join(local_md_dir, f\"{name_without_suff}_spans.pdf\"))"
   ]
  },
  {
   "cell_type": "code",
   "execution_count": 9,
   "metadata": {},
   "outputs": [],
   "source": [
    "### dump markdown\n",
    "pipe_result.dump_md(md_writer, f\"{name_without_suff}.md\", image_dir)\n",
    "\n",
    "### get markdown content\n",
    "md_content = pipe_result.get_markdown(image_dir)"
   ]
  },
  {
   "cell_type": "code",
   "execution_count": 10,
   "metadata": {},
   "outputs": [],
   "source": [
    "### dump content list\n",
    "pipe_result.dump_content_list(md_writer, f\"{name_without_suff}_content_list.json\", image_dir)\n",
    "\n",
    "### get content list content\n",
    "content_list_content = pipe_result.get_content_list(image_dir)"
   ]
  },
  {
   "cell_type": "code",
   "execution_count": 11,
   "metadata": {},
   "outputs": [],
   "source": [
    "### get middle json\n",
    "middle_json_content = pipe_result.get_middle_json()\n",
    "\n",
    "### dump middle json\n",
    "pipe_result.dump_middle_json(md_writer, f'{name_without_suff}_middle.json')"
   ]
  }
 ],
 "metadata": {
  "kernelspec": {
   "display_name": "llm",
   "language": "python",
   "name": "python3"
  },
  "language_info": {
   "codemirror_mode": {
    "name": "ipython",
    "version": 3
   },
   "file_extension": ".py",
   "mimetype": "text/x-python",
   "name": "python",
   "nbconvert_exporter": "python",
   "pygments_lexer": "ipython3",
   "version": "3.10.16"
  }
 },
 "nbformat": 4,
 "nbformat_minor": 2
}
